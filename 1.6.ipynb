{
 "cells": [
  {
   "cell_type": "markdown",
   "metadata": {},
   "source": [
    "<h2>Quick sort</h2>"
   ]
  },
  {
   "cell_type": "code",
   "execution_count": 215,
   "metadata": {},
   "outputs": [],
   "source": [
    "def quick_sort(lst,new_lst,indx=0):\n",
    "    if lst==[]:\n",
    "        return []\n",
    "\n",
    "    pivot=lst[-1]\n",
    "    left=[]\n",
    "    right=[]\n",
    "    lst.remove(pivot)\n",
    "    for element in lst:\n",
    "        if element<pivot:\n",
    "            left.append(element)\n",
    "        else:\n",
    "            right.append(element)\n",
    "\n",
    "    new_lst[len(left)+indx]=pivot\n",
    "    print(new_lst)\n",
    "    left = quick_sort(left,new_lst,indx)\n",
    "    right = quick_sort(right,new_lst,indx+1)\n",
    "    return new_lst\n"
   ]
  },
  {
   "cell_type": "code",
   "execution_count": 216,
   "metadata": {},
   "outputs": [],
   "source": [
    "lst=[8,6,4,3,7]"
   ]
  },
  {
   "cell_type": "code",
   "execution_count": 217,
   "metadata": {},
   "outputs": [
    {
     "name": "stdout",
     "output_type": "stream",
     "text": [
      "['*', '*', '*', 7, '*']\n",
      "[3, '*', '*', 7, '*']\n",
      "[3, 4, '*', 7, '*']\n",
      "[3, 4, 6, 7, '*']\n",
      "[3, 8, 6, 7, '*']\n"
     ]
    },
    {
     "data": {
      "text/plain": [
       "[3, 8, 6, 7, '*']"
      ]
     },
     "execution_count": 217,
     "metadata": {},
     "output_type": "execute_result"
    }
   ],
   "source": [
    "sorted_lst=quick_sort(lst,[\"*\"]*len(lst))\n",
    "sorted_lst"
   ]
  },
  {
   "cell_type": "markdown",
   "metadata": {},
   "source": [
    "<b>Worst case</b>"
   ]
  },
  {
   "cell_type": "markdown",
   "metadata": {},
   "source": [
    "O(n^2)"
   ]
  },
  {
   "cell_type": "markdown",
   "metadata": {},
   "source": [
    "<b>Best case</b>"
   ]
  },
  {
   "cell_type": "markdown",
   "metadata": {},
   "source": [
    "O(nlog(n))"
   ]
  },
  {
   "cell_type": "code",
   "execution_count": null,
   "metadata": {},
   "outputs": [],
   "source": []
  }
 ],
 "metadata": {
  "kernelspec": {
   "display_name": "Python 3",
   "language": "python",
   "name": "python3"
  },
  "language_info": {
   "codemirror_mode": {
    "name": "ipython",
    "version": 3
   },
   "file_extension": ".py",
   "mimetype": "text/x-python",
   "name": "python",
   "nbconvert_exporter": "python",
   "pygments_lexer": "ipython3",
   "version": "3.7.3"
  }
 },
 "nbformat": 4,
 "nbformat_minor": 2
}
