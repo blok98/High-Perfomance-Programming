{
 "cells": [
  {
   "cell_type": "markdown",
   "metadata": {},
   "source": [
    "<h2> Bucket Sort"
   ]
  },
  {
   "cell_type": "code",
   "execution_count": 63,
   "metadata": {},
   "outputs": [],
   "source": [
    "def bucket_sort(lst,max_dec):\n",
    "    sorted_lst=[\"*\"]*len(lst)\n",
    "    for dec in range(max_dec):\n",
    "        bucket={0:[],1:[],2:[],3:[],4:[],5:[],6:[],7:[],8:[],9:[]}\n",
    "        for i in lst:\n",
    "                \n",
    "            bucket_index=int((\"0\"*max_dec+str(i))[-dec-1])\n",
    "            bucket[bucket_index].append(i)\n",
    "        \n",
    "        sorted_lst_index=0\n",
    "        for j in bucket.values():\n",
    "            j=insertion_sort(j)\n",
    "            for x in j:\n",
    "                sorted_lst[sorted_lst_index]=x\n",
    "                sorted_lst_index+=1\n",
    "                \n",
    "    return sorted_lst\n",
    "\n",
    "\n",
    "# function/code used from opdracht 1.1\n",
    "from typing import List\n",
    "\n",
    "def insertion_sort(data: List[int]) -> None:\n",
    "    \"\"\"Sorting an array in place using insertion sort.\"\"\"\n",
    "    # loop over len(data) - 1 elements\n",
    "    for next in range(1, len(data)):\n",
    "        insert = data[next] # value to insert\n",
    "        move_item = next    # location to place element\n",
    "\n",
    "        # search for place to put current element\n",
    "        while move_item > 0 and data[move_item - 1] > insert:\n",
    "            # shift element right one slot\n",
    "            data[move_item] = data[move_item - 1]\n",
    "            move_item -= 1\n",
    "\n",
    "        data[move_item] = insert # place inserted element\n",
    "    return data\n",
    "        "
   ]
  },
  {
   "cell_type": "code",
   "execution_count": 65,
   "metadata": {},
   "outputs": [],
   "source": [
    "lst=[12,105,7,33,108,4]"
   ]
  },
  {
   "cell_type": "code",
   "execution_count": 66,
   "metadata": {},
   "outputs": [
    {
     "name": "stdout",
     "output_type": "stream",
     "text": [
      "[4, 7, 12, 33, 105, 108]\n"
     ]
    }
   ],
   "source": [
    "print(bucket_sort(lst,3))"
   ]
  },
  {
   "cell_type": "markdown",
   "metadata": {},
   "source": [
    "The bucket sort algorithm doesn't make any comparisons, it just places numbers on a specific index. Therefore the complexity is fully depended on the insertion sort. The insertion sort will only compare if there are multiple numbers with the same first digit. If the first digit is different for all numbers, the best case would have 0 comparisons. If all first numbers are the same the amount of comparisons would be between n-1 and (n²-n)/2. So the worst case is (n²-n)/2. "
   ]
  },
  {
   "cell_type": "code",
   "execution_count": null,
   "metadata": {},
   "outputs": [],
   "source": []
  }
 ],
 "metadata": {
  "kernelspec": {
   "display_name": "Python 3",
   "language": "python",
   "name": "python3"
  },
  "language_info": {
   "codemirror_mode": {
    "name": "ipython",
    "version": 3
   },
   "file_extension": ".py",
   "mimetype": "text/x-python",
   "name": "python",
   "nbconvert_exporter": "python",
   "pygments_lexer": "ipython3",
   "version": "3.7.3"
  }
 },
 "nbformat": 4,
 "nbformat_minor": 2
}
